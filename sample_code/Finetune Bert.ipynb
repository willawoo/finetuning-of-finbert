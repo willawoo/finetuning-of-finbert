{
 "cells": [
  {
   "cell_type": "markdown",
   "id": "313091b7-5abe-422e-ba79-7f720a6b38c6",
   "metadata": {},
   "source": [
    "# BERT Finetuning Tutorial for Sentiment Analysis"
   ]
  },
  {
   "cell_type": "code",
   "execution_count": 1,
   "id": "2ccf175e-ec84-4e0d-8789-b2bcdbbe4bbd",
   "metadata": {},
   "outputs": [
    {
     "name": "stderr",
     "output_type": "stream",
     "text": [
      "C:\\Users\\wjlwi\\AppData\\Local\\Packages\\PythonSoftwareFoundation.Python.3.10_qbz5n2kfra8p0\\LocalCache\\local-packages\\Python310\\site-packages\\tqdm\\auto.py:21: TqdmWarning: IProgress not found. Please update jupyter and ipywidgets. See https://ipywidgets.readthedocs.io/en/stable/user_install.html\n",
      "  from .autonotebook import tqdm as notebook_tqdm\n"
     ]
    }
   ],
   "source": [
    "import torch\n",
    "from torch import nn\n",
    "from transformers import BertTokenizer, BertModel\n",
    "from torch.optim import AdamW  \n",
    "from torch.utils.data import Dataset, DataLoader\n",
    "import pandas as pd\n",
    "from sklearn.model_selection import train_test_split\n",
    "import numpy as np\n",
    "from tqdm import tqdm"
   ]
  },
  {
   "cell_type": "code",
   "execution_count": 2,
   "id": "02c8a2a3-80d8-4a77-87b4-111cf9a00e17",
   "metadata": {},
   "outputs": [
    {
     "name": "stdout",
     "output_type": "stream",
     "text": [
      "Using device: cpu\n"
     ]
    }
   ],
   "source": [
    "torch.manual_seed(42)\n",
    "    \n",
    "# Set device (GPU if available, else CPU)\n",
    "device = (\n",
    "    \"mps\" \n",
    "    if torch.backends.mps.is_available() \n",
    "    else \"cuda\" \n",
    "    if torch.cuda.is_available() \n",
    "    else \"cpu\"\n",
    ")\n",
    "device = torch.device(device)\n",
    "print(f\"Using device: {device}\")"
   ]
  },
  {
   "cell_type": "code",
   "execution_count": 4,
   "id": "7ebef5b0-c268-4553-8389-fe7b72907bdd",
   "metadata": {},
   "outputs": [],
   "source": [
    "# demo data from https://www.kaggle.com/datasets/ankurzing/sentiment-analysis-for-financial-news?resource=download\n",
    "data = pd.read_csv('all-data.csv', names=['label', 'text'], encoding='utf-8', encoding_errors='ignore')"
   ]
  },
  {
   "cell_type": "code",
   "execution_count": 8,
   "id": "b0d379ea",
   "metadata": {},
   "outputs": [],
   "source": [
    "# data"
   ]
  },
  {
   "cell_type": "code",
   "execution_count": null,
   "id": "5f73c6b3-173d-4fe1-8c7b-a26306b7bace",
   "metadata": {},
   "outputs": [],
   "source": [
    "# Create a mapping dictionary\n",
    "label_map = {\n",
    "    'neutral': 0,\n",
    "    'positive': 1,\n",
    "    'negative': 2\n",
    "}\n",
    "\n",
    "# Apply the mapping to the 'label' column\n",
    "data['label'] = data['label'].map(label_map)\n"
   ]
  },
  {
   "cell_type": "code",
   "execution_count": 9,
   "id": "ce28744a-8d11-4fe1-bf86-5dd2530e7842",
   "metadata": {},
   "outputs": [],
   "source": [
    "# Split data ensuring indices are reset\n",
    "train_texts, val_texts, train_labels, val_labels = train_test_split(\n",
    "    data['text'].reset_index(drop=True),\n",
    "    data['label'].reset_index(drop=True),\n",
    "    test_size=0.2,\n",
    "    random_state=42\n",
    ")"
   ]
  },
  {
   "cell_type": "code",
   "execution_count": 19,
   "id": "c1b266b6-8da7-4ef4-b6e8-aa1c0171719b",
   "metadata": {},
   "outputs": [],
   "source": [
    "# Initialize tokenizer\n",
    "tokenizer = BertTokenizer.from_pretrained(\"ProsusAI/finbert\")"
   ]
  },
  {
   "cell_type": "code",
   "execution_count": 20,
   "id": "20b1d53c-1a5e-4ca2-9dcd-7ab8c4d2d3db",
   "metadata": {},
   "outputs": [],
   "source": [
    "class NewsDataset(Dataset):\n",
    "    def __init__(self, texts, labels, tokenizer, max_length=128):\n",
    "        # Convert to list to ensure sequential indexing\n",
    "        self.texts = texts.tolist() if hasattr(texts, 'tolist') else list(texts)\n",
    "        self.labels = labels.tolist() if hasattr(labels, 'tolist') else list(labels)\n",
    "        self.tokenizer = tokenizer\n",
    "        self.max_length = max_length\n",
    "    \n",
    "    def __len__(self):\n",
    "        return len(self.texts)\n",
    "    \n",
    "    def __getitem__(self, idx):\n",
    "        text = str(self.texts[idx])\n",
    "        label = self.labels[idx]\n",
    "        \n",
    "        encoding = self.tokenizer.encode_plus(\n",
    "            text,\n",
    "            add_special_tokens=True,\n",
    "            max_length=self.max_length,\n",
    "            return_token_type_ids=False,\n",
    "            padding='max_length',\n",
    "            truncation=True,\n",
    "            return_attention_mask=True,\n",
    "            return_tensors='pt'\n",
    "        )\n",
    "        \n",
    "        return {\n",
    "            'input_ids': encoding['input_ids'].flatten(),\n",
    "            'attention_mask': encoding['attention_mask'].flatten(),\n",
    "            'labels': torch.tensor(label, dtype=torch.long)\n",
    "        }"
   ]
  },
  {
   "cell_type": "code",
   "execution_count": 12,
   "id": "49739767-a187-4f40-880a-be4b895c9c64",
   "metadata": {},
   "outputs": [],
   "source": [
    "# Create datasets\n",
    "train_dataset = NewsDataset(train_texts, train_labels, tokenizer)\n",
    "val_dataset = NewsDataset(val_texts, val_labels, tokenizer)\n",
    "\n",
    "# Create data loaders\n",
    "train_loader = DataLoader(train_dataset, batch_size=32, shuffle=True)\n",
    "val_loader = DataLoader(val_dataset, batch_size=32)"
   ]
  },
  {
   "cell_type": "code",
   "execution_count": 13,
   "id": "aa09375d-fe36-4f1c-8e69-3e0872b879c7",
   "metadata": {},
   "outputs": [],
   "source": [
    "# Create the BERT-based model class\n",
    "class SentimentClassifier(nn.Module):\n",
    "    \"\"\"\n",
    "    Our sentiment classifier model.\n",
    "    It uses BERT as the base model and adds a classification head on top.\n",
    "    \"\"\"\n",
    "    def __init__(self, n_classes=3):\n",
    "        super(SentimentClassifier, self).__init__()\n",
    "        # Load the pre-trained BERT model\n",
    "        self.bert = BertModel.from_pretrained('bert-base-uncased')\n",
    "        # Add a dropout layer for regularization\n",
    "        self.dropout = nn.Dropout(p=0.3)\n",
    "        # Add a linear layer for classification\n",
    "        # BERT base output dimension is 768\n",
    "        self.classifier = nn.Linear(self.bert.config.hidden_size, n_classes)\n",
    "        \n",
    "    def forward(self, input_ids, attention_mask):\n",
    "        # Get BERT outputs\n",
    "        # We only need the [CLS] token output for classification\n",
    "        outputs = self.bert(\n",
    "            input_ids=input_ids,\n",
    "            attention_mask=attention_mask\n",
    "        )\n",
    "        # Get the [CLS] token output\n",
    "        pooled_output = outputs.pooler_output\n",
    "        # Apply dropout\n",
    "        output = self.dropout(pooled_output)\n",
    "        # Get logits through the classifier\n",
    "        return self.classifier(output)\n"
   ]
  },
  {
   "cell_type": "code",
   "execution_count": 14,
   "id": "479acf00-26f2-4f3f-89f1-dfbd9a19f301",
   "metadata": {},
   "outputs": [],
   "source": [
    "# Initialize model\n",
    "model = SentimentClassifier()\n",
    "model = model.to(device)\n",
    "\n",
    "# Initialize optimizer\n",
    "optimizer = AdamW([\n",
    "    {'params': model.bert.parameters(), 'lr': 2e-5},\n",
    "    {'params': model.classifier.parameters(), 'lr': 1e-3}\n",
    "])"
   ]
  },
  {
   "cell_type": "code",
   "execution_count": 15,
   "id": "7871e957-972a-4675-917c-beee9f435faa",
   "metadata": {},
   "outputs": [],
   "source": [
    "# Training function\n",
    "def train_epoch(model, data_loader, optimizer, device):\n",
    "    \"\"\"\n",
    "    Trains the model for one epoch and returns the average loss.\n",
    "    \"\"\"\n",
    "    model.train()\n",
    "    total_loss = 0\n",
    "    \n",
    "    # Use tqdm for a nice progress bar\n",
    "    for batch in tqdm(data_loader, desc=\"Training\"):\n",
    "        # Move batch to device (CPU/GPU)\n",
    "        input_ids = batch['input_ids'].to(device)\n",
    "        attention_mask = batch['attention_mask'].to(device)\n",
    "        labels = batch['labels'].to(device)\n",
    "        \n",
    "        # Clear gradients\n",
    "        optimizer.zero_grad()\n",
    "        \n",
    "        # Forward pass\n",
    "        outputs = model(input_ids=input_ids, attention_mask=attention_mask)\n",
    "        \n",
    "        # Calculate loss\n",
    "        loss_fn = nn.CrossEntropyLoss()\n",
    "        loss = loss_fn(outputs, labels)\n",
    "        \n",
    "        # Backward pass\n",
    "        loss.backward()\n",
    "        \n",
    "        # Update weights\n",
    "        optimizer.step()\n",
    "        \n",
    "        total_loss += loss.item()\n",
    "    \n",
    "    # Return average loss\n",
    "    return total_loss / len(data_loader)"
   ]
  },
  {
   "cell_type": "code",
   "execution_count": 16,
   "id": "131ba2a7-5728-47f9-a18a-cbe304dffdd1",
   "metadata": {},
   "outputs": [],
   "source": [
    "# Evaluation function\n",
    "def evaluate(model, data_loader, device):\n",
    "    \"\"\"\n",
    "    Evaluates the model on the provided data loader.\n",
    "    Returns accuracy and average loss.\n",
    "    \"\"\"\n",
    "    model.eval()\n",
    "    total_loss = 0\n",
    "    correct_predictions = 0\n",
    "    total_predictions = 0\n",
    "    \n",
    "    with torch.no_grad():\n",
    "        for batch in tqdm(data_loader, desc=\"Evaluating\"):\n",
    "            input_ids = batch['input_ids'].to(device)\n",
    "            attention_mask = batch['attention_mask'].to(device)\n",
    "            labels = batch['labels'].to(device)\n",
    "            \n",
    "            outputs = model(input_ids=input_ids, attention_mask=attention_mask)\n",
    "            \n",
    "            loss_fn = nn.CrossEntropyLoss()\n",
    "            loss = loss_fn(outputs, labels)\n",
    "            \n",
    "            _, predictions = torch.max(outputs, dim=1)\n",
    "            \n",
    "            total_loss += loss.item()\n",
    "            correct_predictions += torch.sum(predictions == labels)\n",
    "            total_predictions += labels.shape[0]\n",
    "    \n",
    "    # Use float32 instead of double/float64\n",
    "    accuracy = (correct_predictions.float() / total_predictions) * 100  \n",
    "    average_loss = total_loss / len(data_loader)\n",
    "    \n",
    "    return accuracy, average_loss"
   ]
  },
  {
   "cell_type": "code",
   "execution_count": 17,
   "id": "4f429325-9583-4499-b10b-a0bf2cb96f65",
   "metadata": {},
   "outputs": [],
   "source": [
    "# Main training loop\n",
    "def train_model(model, train_loader, val_loader, optimizer, device, epochs=3):\n",
    "    \"\"\"\n",
    "    Main training loop that handles the entire training process.\n",
    "    \"\"\"\n",
    "    best_accuracy = 0\n",
    "    \n",
    "    for epoch in range(epochs):\n",
    "        print(f'\\nEpoch {epoch + 1}/{epochs}')\n",
    "        \n",
    "        # Train one epoch\n",
    "        train_loss = train_epoch(model, train_loader, optimizer, device)\n",
    "        \n",
    "        # Evaluate\n",
    "        val_accuracy, val_loss = evaluate(model, val_loader, device)\n",
    "        \n",
    "        # Print metrics\n",
    "        print(f'Training Loss: {train_loss:.4f}')\n",
    "        print(f'Validation Loss: {val_loss:.4f}')\n",
    "        print(f'Validation Accuracy: {val_accuracy:.4f}')\n",
    "        \n",
    "        # Save best model\n",
    "        if val_accuracy > best_accuracy:\n",
    "            best_accuracy = val_accuracy\n",
    "            torch.save(model.state_dict(), 'best_model.pt')\n",
    "            print('Best model saved!')"
   ]
  },
  {
   "cell_type": "code",
   "execution_count": 21,
   "id": "3ae3328e-af23-47db-b0b6-b412275a9447",
   "metadata": {},
   "outputs": [
    {
     "name": "stdout",
     "output_type": "stream",
     "text": [
      "\n",
      "Epoch 1/3\n"
     ]
    },
    {
     "name": "stderr",
     "output_type": "stream",
     "text": [
      "Training: 100%|██████████| 122/122 [20:07<00:00,  9.90s/it]\n",
      "Evaluating: 100%|██████████| 31/31 [01:27<00:00,  2.83s/it]\n"
     ]
    },
    {
     "name": "stdout",
     "output_type": "stream",
     "text": [
      "Training Loss: 0.0914\n",
      "Validation Loss: 0.4894\n",
      "Validation Accuracy: 85.5670\n",
      "Best model saved!\n",
      "\n",
      "Epoch 2/3\n"
     ]
    },
    {
     "name": "stderr",
     "output_type": "stream",
     "text": [
      "Training: 100%|██████████| 122/122 [49:15<00:00, 24.22s/it]  \n",
      "Evaluating: 100%|██████████| 31/31 [02:06<00:00,  4.08s/it]\n"
     ]
    },
    {
     "name": "stdout",
     "output_type": "stream",
     "text": [
      "Training Loss: 0.0489\n",
      "Validation Loss: 0.7387\n",
      "Validation Accuracy: 84.1237\n",
      "\n",
      "Epoch 3/3\n"
     ]
    },
    {
     "name": "stderr",
     "output_type": "stream",
     "text": [
      "Training: 100%|██████████| 122/122 [58:32<00:00, 28.79s/it]   \n",
      "Evaluating: 100%|██████████| 31/31 [01:59<00:00,  3.85s/it]\n"
     ]
    },
    {
     "name": "stdout",
     "output_type": "stream",
     "text": [
      "Training Loss: 0.0480\n",
      "Validation Loss: 0.5661\n",
      "Validation Accuracy: 86.7010\n",
      "Best model saved!\n",
      "CPU times: total: 7h 5min 10s\n",
      "Wall time: 2h 13min 29s\n"
     ]
    }
   ],
   "source": [
    "%%time\n",
    "\n",
    "# Train the model\n",
    "train_model(model, train_loader, val_loader, optimizer, device)"
   ]
  }
 ],
 "metadata": {
  "kernelspec": {
   "display_name": "Python 3",
   "language": "python",
   "name": "python3"
  },
  "language_info": {
   "codemirror_mode": {
    "name": "ipython",
    "version": 3
   },
   "file_extension": ".py",
   "mimetype": "text/x-python",
   "name": "python",
   "nbconvert_exporter": "python",
   "pygments_lexer": "ipython3",
   "version": "3.10.11"
  }
 },
 "nbformat": 4,
 "nbformat_minor": 5
}
